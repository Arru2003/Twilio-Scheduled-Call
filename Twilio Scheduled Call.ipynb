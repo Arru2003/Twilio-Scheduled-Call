{
 "cells": [
  {
   "cell_type": "code",
   "execution_count": 13,
   "id": "38ebc96e-55f7-4528-81c7-4c4455bcb823",
   "metadata": {},
   "outputs": [
    {
     "name": "stdin",
     "output_type": "stream",
     "text": [
      "Enter the phone number to call:  +917978721139\n",
      "Enter the date and time to call (YYYY-MM-DD HH:MM:SS format):  2024-04-19 15:17:00\n"
     ]
    },
    {
     "name": "stdout",
     "output_type": "stream",
     "text": [
      "Call scheduled for: 2024-04-19 15:17:00\n",
      "Call initiated. Call SID: CAa590ba7ecf4f52164d1161780f87b312\n"
     ]
    }
   ],
   "source": [
    "from datetime import datetime\n",
    "from twilio.rest import Client\n",
    "from twilio.twiml.voice_response import VoiceResponse\n",
    "import threading\n",
    "\n",
    "# Your Twilio account SID and auth token\n",
    "account_sid = \"AC6e61bc2b8d5b308b25dcf183a887b396\"  # Your Twilio Account SID\n",
    "auth_token = \"de036270b69c192e94535aabb2a97b07\"     # Your Twilio Auth Token\n",
    "twilio_phone_number = \"+12513095559\"                # Your Twilio Phone Number (Must be a Twilio phone number)\n",
    "\n",
    "client = Client(account_sid, auth_token)\n",
    "\n",
    "# Function to make a call at a specific time\n",
    "def make_call(to_number, time_to_call):\n",
    "    # Convert the input time_to_call to a datetime object\n",
    "    call_time = datetime.strptime(time_to_call, \"%Y-%m-%d %H:%M:%S\")\n",
    "\n",
    "    # Calculate the time difference between the scheduled time and the current time\n",
    "    time_diff = (call_time - datetime.now()).total_seconds()\n",
    "\n",
    "    if time_diff <= 0:\n",
    "        print(\"Scheduled time is in the past. Call cannot be initiated.\")\n",
    "        return\n",
    "\n",
    "    # Delay the execution of make_call by the time difference\n",
    "    timer = threading.Timer(time_diff, initiate_call, args=[to_number])\n",
    "    timer.start()\n",
    "\n",
    "    print(\"Call scheduled for:\", time_to_call)\n",
    "\n",
    "# Function to initiate the call\n",
    "def initiate_call(to_number):\n",
    "    # Create a TwiML response with a recorded message\n",
    "    response = VoiceResponse()\n",
    "    response.say(\"Hello, this is a recorded message for testing.\")\n",
    "    response.record(max_length=20, action=\"/handle-recording\")\n",
    "\n",
    "    # Create a call with the TwiML response\n",
    "    call = client.calls.create(\n",
    "        to=to_number,\n",
    "        from_=twilio_phone_number,\n",
    "        url=\"https://handler.twilio.com/twiml/EH0f386d7cc220e676e08205fe4fee697c\"  # Placeholder URL, actual URL for TwiML\n",
    "    )\n",
    "\n",
    "    print(\"Call initiated. Call SID:\", call.sid)\n",
    "\n",
    "# Example usage: Prompt user for phone number and time to call\n",
    "to_number = input(\"Enter the phone number to call: \")\n",
    "time_to_call = input(\"Enter the date and time to call (YYYY-MM-DD HH:MM:SS format): \")\n",
    "\n",
    "make_call(to_number, time_to_call)\n"
   ]
  },
  {
   "cell_type": "code",
   "execution_count": null,
   "id": "f3e7ea91-003d-4474-9e61-91bc028bcdcb",
   "metadata": {},
   "outputs": [],
   "source": []
  }
 ],
 "metadata": {
  "kernelspec": {
   "display_name": "Python 3 (ipykernel)",
   "language": "python",
   "name": "python3"
  },
  "language_info": {
   "codemirror_mode": {
    "name": "ipython",
    "version": 3
   },
   "file_extension": ".py",
   "mimetype": "text/x-python",
   "name": "python",
   "nbconvert_exporter": "python",
   "pygments_lexer": "ipython3",
   "version": "3.11.7"
  }
 },
 "nbformat": 4,
 "nbformat_minor": 5
}
